{
 "cells": [
  {
   "cell_type": "code",
   "execution_count": null,
   "id": "bf211127",
   "metadata": {},
   "outputs": [],
   "source": [
    "%uv pip install -q ipykernel"
   ]
  },
  {
   "cell_type": "code",
   "execution_count": null,
   "id": "ff727df1",
   "metadata": {},
   "outputs": [],
   "source": [
    "%uv pip install -q langchain-ollama"
   ]
  },
  {
   "cell_type": "code",
   "execution_count": null,
   "id": "1b7c832d",
   "metadata": {},
   "outputs": [],
   "source": [
    "from langchain_ollama import ChatOllama\n",
    "\n",
    "llm = ChatOllama(model=\"gemma3:1b\")\n",
    "\n",
    "llm.invoke(\"너는 누구냐?\")"
   ]
  },
  {
   "cell_type": "code",
   "execution_count": null,
   "id": "d8a4e276",
   "metadata": {},
   "outputs": [],
   "source": [
    "%uv pip install -q langchain-openai python-dotenv"
   ]
  },
  {
   "cell_type": "code",
   "execution_count": null,
   "id": "6717bd8c",
   "metadata": {},
   "outputs": [],
   "source": [
    "from dotenv import load_dotenv\n",
    "\n",
    "load_dotenv()"
   ]
  },
  {
   "cell_type": "code",
   "execution_count": null,
   "id": "f790cb31",
   "metadata": {},
   "outputs": [],
   "source": [
    "from langchain_openai import ChatOpenAI\n",
    "\n",
    "llm = ChatOpenAI(model=\"gpt-4o-mini\") # OPENAI_API_KEY\n",
    "\n",
    "llm.invoke(\"너는 누구냐?\")\n"
   ]
  },
  {
   "cell_type": "code",
   "execution_count": null,
   "id": "c3e06d19",
   "metadata": {},
   "outputs": [],
   "source": [
    "from langchain_openai import AzureOpenAI\n",
    "\n",
    "llm = AzureOpenAI(model=\"gpt-4o-mini\")\n",
    "\n",
    "llm.invoke(\"너는 누구냐?\")"
   ]
  }
 ],
 "metadata": {
  "kernelspec": {
   "display_name": ".venv",
   "language": "python",
   "name": "python3"
  },
  "language_info": {
   "codemirror_mode": {
    "name": "ipython",
    "version": 3
   },
   "file_extension": ".py",
   "mimetype": "text/x-python",
   "name": "python",
   "nbconvert_exporter": "python",
   "pygments_lexer": "ipython3",
   "version": "3.12.6"
  }
 },
 "nbformat": 4,
 "nbformat_minor": 5
}
