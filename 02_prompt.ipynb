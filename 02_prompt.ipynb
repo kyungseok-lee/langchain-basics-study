{
 "cells": [
  {
   "cell_type": "code",
   "execution_count": 1,
   "id": "0f61c136",
   "metadata": {},
   "outputs": [
    {
     "name": "stdout",
     "output_type": "stream",
     "text": [
      "/Users/kyungseok.lee/workspace-git/langchain-basics-study/.venv/bin/python: No module named uv\n",
      "Note: you may need to restart the kernel to use updated packages.\n"
     ]
    }
   ],
   "source": [
    "%uv pip install -q langchain-ollama"
   ]
  },
  {
   "cell_type": "code",
   "execution_count": 2,
   "id": "2b24eb73",
   "metadata": {},
   "outputs": [],
   "source": [
    "from langchain_ollama import ChatOllama\n",
    "\n",
    "llm = ChatOllama(model=\"gemma3:1b\")\n",
    "\n",
    "# Invalid input type <class 'int'>. Must be a PromptValue, str, or list of BaseMessages.\n",
    "# llm.invoke(0)"
   ]
  },
  {
   "cell_type": "code",
   "execution_count": 3,
   "id": "a3ca4632",
   "metadata": {},
   "outputs": [
    {
     "name": "stdout",
     "output_type": "stream",
     "text": [
      "text='What is the capital of France?'\n"
     ]
    },
    {
     "data": {
      "text/plain": [
       "AIMessage(content='The capital of France is **Paris**. \\n\\nIt’s a common misconception that Paris is the only capital, but it’s the largest and most significant city in France. 😊 \\n\\nWould you like to know more about Paris?', additional_kwargs={}, response_metadata={'model': 'gemma3:1b', 'created_at': '2025-09-05T13:57:05.959104Z', 'done': True, 'done_reason': 'stop', 'total_duration': 1388570625, 'load_duration': 686500625, 'prompt_eval_count': 16, 'prompt_eval_duration': 87958583, 'eval_count': 49, 'eval_duration': 613432542, 'model_name': 'gemma3:1b'}, id='run--5a8c1805-6ae2-4088-93ba-7d6290160389-0', usage_metadata={'input_tokens': 16, 'output_tokens': 49, 'total_tokens': 65})"
      ]
     },
     "execution_count": 3,
     "metadata": {},
     "output_type": "execute_result"
    }
   ],
   "source": [
    "from langchain_core.prompts import PromptTemplate\n",
    "\n",
    "prompt_template = PromptTemplate(\n",
    "    input_variables=[\"country\"], template=\"\"\"What is the capital of {country}?\"\"\"\n",
    ")\n",
    "\n",
    "prompt = prompt_template.invoke({\"country\": \"France\"})\n",
    "\n",
    "print(prompt)\n",
    "\n",
    "llm.invoke(prompt)"
   ]
  },
  {
   "cell_type": "code",
   "execution_count": 4,
   "id": "484c099e",
   "metadata": {},
   "outputs": [
    {
     "data": {
      "text/plain": [
       "AIMessage(content='Okay, let’s do that! \\n\\nThe capital of **Brazil** is Brasília. \\n\\nLet me know if you’d like to try another country! 😊', additional_kwargs={}, response_metadata={'model': 'gemma3:1b', 'created_at': '2025-09-05T13:57:10.679571Z', 'done': True, 'done_reason': 'stop', 'total_duration': 747162417, 'load_duration': 178935875, 'prompt_eval_count': 65, 'prompt_eval_duration': 87751583, 'eval_count': 36, 'eval_duration': 461010292, 'model_name': 'gemma3:1b'}, id='run--832e7f9d-f66d-4d41-9171-e8458a54dc01-0', usage_metadata={'input_tokens': 65, 'output_tokens': 36, 'total_tokens': 101})"
      ]
     },
     "execution_count": 4,
     "metadata": {},
     "output_type": "execute_result"
    }
   ],
   "source": [
    "from langchain_core.messages import HumanMessage, SystemMessage, AIMessage\n",
    "\n",
    "message_list = [\n",
    "    HumanMessage(content=\"What is the capital of France?\"),\n",
    "    AIMessage(content=\"The capital of France is Paris.\"),\n",
    "    HumanMessage(content=\"What is the capital of Germany?\"),\n",
    "    AIMessage(content=\"The capital of Germany is Berlin.\"),\n",
    "    HumanMessage(content=\"What is the capital of {country}?\"),\n",
    "]\n",
    "\n",
    "llm.invoke(message_list)"
   ]
  },
  {
   "cell_type": "code",
   "execution_count": 5,
   "id": "aac0f8fd",
   "metadata": {},
   "outputs": [
    {
     "name": "stdout",
     "output_type": "stream",
     "text": [
      "content='The capital of Korea is **Seoul**. \\n\\nIt’s a complex city, but Seoul is the administrative and political center of South Korea. 😊 \\n\\nDo you want to know more about Seoul, like its history or famous landmarks?' additional_kwargs={} response_metadata={'model': 'gemma3:1b', 'created_at': '2025-09-05T13:57:13.772273Z', 'done': True, 'done_reason': 'stop', 'total_duration': 854751542, 'load_duration': 139354083, 'prompt_eval_count': 31, 'prompt_eval_duration': 81033084, 'eval_count': 49, 'eval_duration': 633609083, 'model_name': 'gemma3:1b'} id='run--3a28dd66-552c-44d6-9770-f5d1bfc5ca4c-0' usage_metadata={'input_tokens': 31, 'output_tokens': 49, 'total_tokens': 80}\n"
     ]
    }
   ],
   "source": [
    "from langchain_core.prompts import ChatPromptTemplate\n",
    "\n",
    "chat_prompt_template = ChatPromptTemplate.from_messages(\n",
    "    [\n",
    "        (\"system\", \"You are a helpful assistant that can answer questions.\"),\n",
    "        (\"human\", \"What is the capital of {country}?\"),\n",
    "    ]\n",
    ")\n",
    "\n",
    "chat_prompt = llm.invoke(chat_prompt_template.invoke({\"country\": \"Korea\"}))\n",
    "\n",
    "print(chat_prompt)"
   ]
  }
 ],
 "metadata": {
  "kernelspec": {
   "display_name": ".venv",
   "language": "python",
   "name": "python3"
  },
  "language_info": {
   "codemirror_mode": {
    "name": "ipython",
    "version": 3
   },
   "file_extension": ".py",
   "mimetype": "text/x-python",
   "name": "python",
   "nbconvert_exporter": "python",
   "pygments_lexer": "ipython3",
   "version": "3.12.6"
  }
 },
 "nbformat": 4,
 "nbformat_minor": 5
}
