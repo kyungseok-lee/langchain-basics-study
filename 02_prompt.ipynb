{
 "cells": [
  {
   "cell_type": "code",
   "execution_count": 2,
   "id": "0f61c136",
   "metadata": {},
   "outputs": [
    {
     "name": "stdout",
     "output_type": "stream",
     "text": [
      "Note: you may need to restart the kernel to use updated packages.\n"
     ]
    }
   ],
   "source": [
    "%pip install -q langchain-ollama"
   ]
  },
  {
   "cell_type": "code",
   "execution_count": 9,
   "id": "2b24eb73",
   "metadata": {},
   "outputs": [],
   "source": [
    "from langchain_ollama import ChatOllama\n",
    "\n",
    "llm = ChatOllama(model=\"gemma3:1b\")\n",
    "\n",
    "# Invalid input type <class 'int'>. Must be a PromptValue, str, or list of BaseMessages.\n",
    "# llm.invoke(0)"
   ]
  },
  {
   "cell_type": "code",
   "execution_count": null,
   "id": "a3ca4632",
   "metadata": {},
   "outputs": [
    {
     "name": "stdout",
     "output_type": "stream",
     "text": [
      "text='What is the capital of France?'\n"
     ]
    },
    {
     "data": {
      "text/plain": [
       "AIMessage(content='The capital of France is **Paris**. \\n\\nIt’s a great city! 😊 \\n\\nWould you like to know more about Paris, like its history, landmarks, or culture?', additional_kwargs={}, response_metadata={'model': 'gemma3:1b', 'created_at': '2025-08-30T22:27:05.23605Z', 'done': True, 'done_reason': 'stop', 'total_duration': 420253792, 'load_duration': 95078500, 'prompt_eval_count': 16, 'prompt_eval_duration': 44669792, 'eval_count': 39, 'eval_duration': 280079500, 'model_name': 'gemma3:1b'}, id='run--0a53ee28-95f0-40bf-a7cc-57e75aabfa9a-0', usage_metadata={'input_tokens': 16, 'output_tokens': 39, 'total_tokens': 55})"
      ]
     },
     "execution_count": 14,
     "metadata": {},
     "output_type": "execute_result"
    }
   ],
   "source": [
    "from langchain_core.prompts import PromptTemplate\n",
    "\n",
    "prompt_template = PromptTemplate(\n",
    "    input_variables=[\"country\"], template=\"\"\"What is the capital of {country}?\"\"\"\n",
    ")\n",
    "\n",
    "prompt = prompt_template.invoke({\"country\": \"France\"})\n",
    "\n",
    "print(prompt)\n",
    "\n",
    "llm.invoke(prompt)"
   ]
  },
  {
   "cell_type": "code",
   "execution_count": 25,
   "id": "484c099e",
   "metadata": {},
   "outputs": [
    {
     "data": {
      "text/plain": [
       "AIMessage(content='Okay, let’s do that! \\n\\nThe capital of **Brazil** is Brasília. 😊', additional_kwargs={}, response_metadata={'model': 'gemma3:1b', 'created_at': '2025-08-30T22:43:00.585355Z', 'done': True, 'done_reason': 'stop', 'total_duration': 287846417, 'load_duration': 85805917, 'prompt_eval_count': 65, 'prompt_eval_duration': 48139208, 'eval_count': 21, 'eval_duration': 153210417, 'model_name': 'gemma3:1b'}, id='run--7cee4ca7-1191-4968-9a55-586763a39572-0', usage_metadata={'input_tokens': 65, 'output_tokens': 21, 'total_tokens': 86})"
      ]
     },
     "execution_count": 25,
     "metadata": {},
     "output_type": "execute_result"
    }
   ],
   "source": [
    "from langchain_core.messages import HumanMessage, SystemMessage, AIMessage\n",
    "\n",
    "message_list = [\n",
    "    HumanMessage(content=\"What is the capital of France?\"),\n",
    "    AIMessage(content=\"The capital of France is Paris.\"),\n",
    "    HumanMessage(content=\"What is the capital of Germany?\"),\n",
    "    AIMessage(content=\"The capital of Germany is Berlin.\"),\n",
    "    HumanMessage(content=\"What is the capital of {country}?\"),\n",
    "]\n",
    "\n",
    "llm.invoke(message_list)"
   ]
  },
  {
   "cell_type": "code",
   "execution_count": null,
   "id": "aac0f8fd",
   "metadata": {},
   "outputs": [
    {
     "name": "stdout",
     "output_type": "stream",
     "text": [
      "content='The capital of Korea is **Seoul**. \\n\\nIt’s a major city and the country’s political, economic, and cultural center. 😊 \\n\\nDo you have any other questions I can answer?' additional_kwargs={} response_metadata={'model': 'gemma3:1b', 'created_at': '2025-08-30T22:44:52.010258Z', 'done': True, 'done_reason': 'stop', 'total_duration': 457474458, 'load_duration': 95308291, 'prompt_eval_count': 31, 'prompt_eval_duration': 50147417, 'eval_count': 43, 'eval_duration': 311564917, 'model_name': 'gemma3:1b'} id='run--c1352a4d-b580-4eef-9ba4-199aecc1c8c7-0' usage_metadata={'input_tokens': 31, 'output_tokens': 43, 'total_tokens': 74}\n"
     ]
    }
   ],
   "source": [
    "from langchain_core.prompts import ChatPromptTemplate\n",
    "\n",
    "chat_prompt_template = ChatPromptTemplate.from_messages(\n",
    "    [\n",
    "        (\"system\", \"You are a helpful assistant that can answer questions.\"),\n",
    "        (\"human\", \"What is the capital of {country}?\"),\n",
    "    ]\n",
    ")\n",
    "\n",
    "chat_prompt = llm.invoke(chat_prompt_template.invoke({\"country\": \"Korea\"}))\n",
    "\n",
    "print(chat_prompt)"
   ]
  }
 ],
 "metadata": {
  "kernelspec": {
   "display_name": ".venv",
   "language": "python",
   "name": "python3"
  },
  "language_info": {
   "codemirror_mode": {
    "name": "ipython",
    "version": 3
   },
   "file_extension": ".py",
   "mimetype": "text/x-python",
   "name": "python",
   "nbconvert_exporter": "python",
   "pygments_lexer": "ipython3",
   "version": "3.11.9"
  }
 },
 "nbformat": 4,
 "nbformat_minor": 5
}
