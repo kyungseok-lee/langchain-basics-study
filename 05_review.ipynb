{
 "cells": [
  {
   "cell_type": "code",
   "execution_count": 4,
   "id": "3202599b",
   "metadata": {},
   "outputs": [],
   "source": [
    "from langchain_ollama import ChatOllama\n",
    "\n",
    "llm = ChatOllama(\n",
    "    model=\"gemma3:1b\",\n",
    "    temperature=0,\n",
    ")"
   ]
  },
  {
   "cell_type": "code",
   "execution_count": 12,
   "id": "a0c9fd31",
   "metadata": {},
   "outputs": [],
   "source": [
    "# 음식 이름 찾기\n",
    "\n",
    "from langchain_core.output_parsers import StrOutputParser\n",
    "from langchain_core.prompts import PromptTemplate\n",
    "\n",
    "food_prompt = PromptTemplate(\n",
    "    template=\"\"\"What is one of the most popular food in {country}?\n",
    "    Pleas return the name of the food only\"\"\",\n",
    "    input_variables=[\"country\"],\n",
    ")\n",
    "\n",
    "food_chain = food_prompt | llm | StrOutputParser()"
   ]
  },
  {
   "cell_type": "code",
   "execution_count": 14,
   "id": "47ee71ba",
   "metadata": {},
   "outputs": [
    {
     "data": {
      "text/plain": [
       "'Kimchi'"
      ]
     },
     "execution_count": 14,
     "metadata": {},
     "output_type": "execute_result"
    }
   ],
   "source": [
    "food_chain.invoke({\"country\": \"South Korea\"})"
   ]
  },
  {
   "cell_type": "code",
   "execution_count": 20,
   "id": "7bce2130",
   "metadata": {},
   "outputs": [],
   "source": [
    "from langchain_core.prompts import ChatPromptTemplate\n",
    "\n",
    "# recipe_prompt = PromptTemplate(\n",
    "#     template=\"\"\"\n",
    "#     Please return the recipe of the food in {food}\n",
    "#     \"\"\",\n",
    "#     input_variables=[\"food\"],\n",
    "# )\n",
    "# recipe_chain = recipe_prompt | llm | StrOutputParser()\n",
    "\n",
    "recipe_prompt = ChatPromptTemplate.from_messages([\n",
    "    (\"system\", \"\"\"Provide the recipe of the food that the user wants.\n",
    "Please return the recipe only as a numbered list\"\"\"),\n",
    "    (\"human\", \"Can you give me the recipe for making {food}?\"),\n",
    "])\n",
    "\n",
    "recipe_chain = recipe_prompt | llm | StrOutputParser()\n"
   ]
  },
  {
   "cell_type": "code",
   "execution_count": 21,
   "id": "112ff5df",
   "metadata": {},
   "outputs": [
    {
     "data": {
      "text/plain": [
       "'Okay, here’s a recipe for Bibimbap – a delicious and colorful Korean mixed rice dish!\\n\\n**Bibimbap Recipe**\\n\\n**Yields:** 4 servings\\n**Prep time:** 30 minutes\\n**Cook time:** 20 minutes\\n\\n**Ingredients:**\\n\\n1.  **Rice:** 3 cups short-grain rice (Kalbi rice is ideal)\\n2.  **Beef:** 1 lb thinly sliced beef (ribeye, sirloin, or flank steak work well)\\n3.  **Carrots:** 2 medium carrots, peeled and julienned (thin strips)\\n4.  **Spinach:** 1 large bunch of spinach, washed and dried\\n5.  **Cucumber:** 1/2 cucumber, peeled, seeded, and cut into thin matchsticks\\n6.  **Korean Radish (Mu):** 1/2 cup, peeled and cut into thin matchsticks (optional, but adds a nice crunch)\\n7.  **Green Onions:** 2-3 green onions, thinly sliced (white and green parts)\\n8.  **Sesame Oil:** 2 tablespoons\\n9.  **Soy Sauce:** 2 tablespoons\\n10. **Gochujang (Korean Chili Paste):** 1-2 tablespoons (adjust to your spice preference)\\n11. **Sugar:** 1 teaspoon\\n12. **Salt:** To taste\\n13. **Egg:** 2-3 large eggs\\n14. **Sesame Seeds:** For garnish (black and white)\\n\\n**Instructions:**\\n\\n1.  **Cook the Rice:** Rinse the rice thoroughly until the water runs clear.  Combine rice with 2 cups of water in a pot and bring to a boil. Reduce heat to low, cover, and simmer for 15-20 minutes, or until all the water is absorbed.  Fluff with a fork.\\n2.  **Marinate the Beef:** In a bowl, combine the thinly sliced beef with 1 tablespoon of soy sauce, 1 teaspoon of sugar, and a pinch of salt. Let it marinate for 15-20 minutes.\\n3.  **Prepare the Vegetables:** Wash and dry the carrots, spinach, and cucumber. Julienne the carrots and cucumber into thin strips. Slice the green onions.\\n4.  **Cook the Beef:** Heat 1 tablespoon of sesame oil in a skillet or wok over medium-high heat. Add the marinated beef and cook until browned and cooked through (about 5-7 minutes). Remove from the pan and set aside.\\n5.  **Cook the Egg:** Whisk the eggs in a bowl with 1/4 teaspoon of salt and 1/4 teaspoon of sugar. Heat a little oil in a skillet. Pour in the egg mixture and cook until the eggs are set but still slightly moist.\\n6.  **Assemble the Bibimbap:** Divide the cooked rice among four bowls. Arrange the cooked beef, carrots, spinach, cucumber, and green onions attractively on top of the rice.\\n7.  **Add the Egg:** Carefully place the cooked egg in the center of each bowl.\\n8.  **Drizzle with Sauce:** Drizzle the bowl with the remaining 1 tablespoon of soy sauce and 1 tablespoon of gochujang.\\n9.  **Garnish:** Sprinkle with sesame seeds and sliced green onions.\\n\\n**Tips & Variations:**\\n\\n*   **Vegetable Variations:** Feel free to add other vegetables like mushrooms, zucchini, or bean sprouts.\\n*   **Spice Level:** Adjust the amount of gochujang to your preference.\\n*   **Meat Options:** You can use other meats like pork, chicken, or turkey.\\n*   **Kimchi:** A small amount of kimchi can add a wonderful flavor.\\n\\nEnjoy your homemade Bibimbap!'"
      ]
     },
     "execution_count": 21,
     "metadata": {},
     "output_type": "execute_result"
    }
   ],
   "source": [
    "recipe_chain.invoke({\"food\": \"bibimbap\"})"
   ]
  },
  {
   "cell_type": "code",
   "execution_count": 22,
   "id": "9e5d64b7",
   "metadata": {},
   "outputs": [],
   "source": [
    "# chain 연결\n",
    "\n",
    "# food_chain.invoke({\"country\": \"South Korea\"})\n",
    "# recipe_chain.invoke({\"food\": \"bibimbap\"})\n",
    "final_chain = {\"food\": food_chain} | recipe_chain"
   ]
  },
  {
   "cell_type": "code",
   "execution_count": 23,
   "id": "091eb0b0",
   "metadata": {},
   "outputs": [
    {
     "data": {
      "text/plain": [
       "'Okay, here’s a recipe for making kimchi, aiming for a relatively approachable and delicious result. It’s a bit involved, but well worth the effort!\\n\\n**Homemade Kimchi Recipe**\\n\\nThis recipe makes about 2-3 large containers (around 5-7 liters).\\n\\n**Yields:** Approximately 2-3 large containers (5-7 liters)\\n**Prep Time:** 24-48 hours (mostly for fermentation)\\n**Cook Time:** 30-60 minutes\\n\\n**Ingredients:**\\n\\n1. **Napa Cabbage (Baechu):** 2-3 large heads (about 2-3 kg total) – Choose a firm, heavy head.\\n2. **Korean Salt (Jeotgal):** 1/2 - 1 cup. This is crucial for the fermentation process. You can buy it pre-made or make your own (it’s a salty, fermented salt).\\n3. **Water:** 6-8 liters (enough to submerge the cabbage)\\n4. **Korean Chili Powder (Gochugaru):** 1/2 - 1 cup (adjust to your spice preference)\\n5. **Garlic:** 8-10 cloves, peeled and smashed\\n6. **Ginger:** 2-3 inches, peeled and smashed\\n7. **Korean Pear (Saeu-jeot):** 1-2 medium, peeled and grated (optional, but adds sweetness and helps with fermentation)\\n8. **Salt:** 2-3 tablespoons (for salting the cabbage)\\n9. **Black Pepper:** 1 teaspoon\\n10. **Sugar:** 1-2 tablespoons (helps with fermentation and balances the flavors)\\n11. **Optional additions:**  Korean radish (mu), scallions (green parts), carrots, etc. (about 1/2 - 1 cup total)\\n\\n\\n**Instructions:**\\n\\n1. **Prepare the Cabbage:**\\n   * Trim the thick stem end off the cabbage.\\n   * Cut the cabbage lengthwise into quarters.  You want to create “pockets” of cabbage.\\n   *  Place the cabbage in a large bowl and cover it with cold water.  Let it soak for 12-24 hours. This softens the cabbage and makes it easier to work with.\\n\\n2. **Salt the Cabbage:**\\n   * After soaking, drain the cabbage and thoroughly rinse it under cold water.\\n   *  Submerge the cabbage in a large container (a bucket or large bowl works well).  Add cold water until the cabbage is completely submerged – about 8 inches below the top of the cabbage.\\n   *  Sprinkle generously with salt.  The salt will draw out moisture and help to preserve the cabbage.  Let it sit for 2-3 hours, or until the cabbage is pliable but not completely soft.\\n\\n3. **Make the Kimchi Paste:**\\n   * In a large bowl, combine the grated saeu-jeot (if using), garlic, ginger, and Korean pear (if using).\\n   * Add the chili powder, salt, pepper, and sugar. Mix well.\\n\\n4. **Combine and Massage:**\\n   *  Take a portion of the salted cabbage and add a generous amount of the kimchi paste.  Massage the paste into the cabbage, working it into the pockets.  Repeat this process several times.  This is important for distributing the flavor.\\n\\n5. **Fermentation (First Stage - 1-2 weeks):**\\n   *  Place the kimchi in a clean, food-grade container (plastic or glass).  Cover it with a cloth or plastic wrap.\\n   *  Leave it at room temperature (around 20-24°C / 68-75°F) for 1-2 weeks.  The cabbage will start to ferment.  You’ll notice bubbles forming.  Taste it periodically – it will become sour and tangy.  This is normal.\\n\\n6. **Second Fermentation (Optional - 3-7 days):**\\n   *  After the first fermentation, you can continue to ferment it for another 3-7 days, again at room temperature.  You’ll notice it becoming more sour and complex.\\n\\n7. **Pack and Store:**\\n   * Once the kimchi reaches your desired level of sourness, it’s time to pack it.\\n   *  Pack the kimchi tightly into sterilized glass jars or containers.  Leave about 2-3 inches of headspace.\\n   *  Store in the refrigerator.  Kimchi will continue to ferment slowly in the refrigerator.\\n\\n**Important Notes:**\\n\\n* **Salt is Key:** Don’t skimp on the salting! It’s essential for preserving the kimchi.\\n* **Fermentation Time:** Fermentation time varies depending on temperature and humidity.\\n* **Taste as You Go:** Adjust the chili powder and sugar to your preference.\\n* **Safety:** Kimchi is safe to eat for several months, but the flavor will change over time.\\n\\n**Resources:**\\n\\n* **YouTube:** [https://m.youtube.com/watch?v=9j8w-vQ-9wI](https://m.youtube.com/watch?v=9j8w-vQ-9wI) - A good visual guide to the fermentation process.\\n* **Korean Food Blogs:** Search for \"Korean Kimchi Recipe\" for many detailed recipes and tips.\\n\\nEnjoy making your own kimchi!  Let me know if you have any other questions.'"
      ]
     },
     "execution_count": 23,
     "metadata": {},
     "output_type": "execute_result"
    }
   ],
   "source": [
    "final_chain.invoke({\"country\": \"South Korea\"})"
   ]
  }
 ],
 "metadata": {
  "kernelspec": {
   "display_name": ".venv",
   "language": "python",
   "name": "python3"
  },
  "language_info": {
   "codemirror_mode": {
    "name": "ipython",
    "version": 3
   },
   "file_extension": ".py",
   "mimetype": "text/x-python",
   "name": "python",
   "nbconvert_exporter": "python",
   "pygments_lexer": "ipython3",
   "version": "3.12.6"
  }
 },
 "nbformat": 4,
 "nbformat_minor": 5
}
