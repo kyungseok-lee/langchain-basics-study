{
 "cells": [
  {
   "cell_type": "code",
   "execution_count": 23,
   "id": "0f61c136",
   "metadata": {},
   "outputs": [
    {
     "name": "stdout",
     "output_type": "stream",
     "text": [
      "/Users/kyungseok.lee/workspace-git/langchain-basics-study/.venv/bin/python: No module named uv\n",
      "Note: you may need to restart the kernel to use updated packages.\n"
     ]
    }
   ],
   "source": [
    "# 1단계: 필요한 패키지 설치\n",
    "%uv pip install -q langchain-ollama"
   ]
  },
  {
   "cell_type": "code",
   "execution_count": 24,
   "id": "2b24eb73",
   "metadata": {},
   "outputs": [
    {
     "name": "stdout",
     "output_type": "stream",
     "text": [
      "✅ LLM 모델이 초기화되었습니다.\n"
     ]
    }
   ],
   "source": [
    "# 2단계: LLM 모델 초기화\n",
    "from langchain_ollama import ChatOllama\n",
    "\n",
    "llm = ChatOllama(model=\"gemma3:1b\")\n",
    "print(\"✅ LLM 모델이 초기화되었습니다.\")\n",
    "\n",
    "# Invalid input type <class 'int'>. Must be a PromptValue, str, or list of BaseMessages.\n",
    "# llm.invoke(0)"
   ]
  },
  {
   "cell_type": "code",
   "execution_count": 25,
   "id": "a91b5fae",
   "metadata": {},
   "outputs": [
    {
     "name": "stdout",
     "output_type": "stream",
     "text": [
      "프롬프트: text='What is the capital of France? Return the name of the city only'\n",
      "AI 응답: content='Paris' additional_kwargs={} response_metadata={'model': 'gemma3:1b', 'created_at': '2025-09-05T16:56:04.251416Z', 'done': True, 'done_reason': 'stop', 'total_duration': 222118042, 'load_duration': 137292584, 'prompt_eval_count': 23, 'prompt_eval_duration': 72827875, 'eval_count': 2, 'eval_duration': 11521625, 'model_name': 'gemma3:1b'} id='run--874f5b6c-c87a-4c6f-847a-03b3c58d243b-0' usage_metadata={'input_tokens': 23, 'output_tokens': 2, 'total_tokens': 25}\n",
      "파싱된 답변: Paris\n"
     ]
    }
   ],
   "source": [
    "# 3단계: 기본 출력 파서 사용 예시\n",
    "from langchain_core.prompts import PromptTemplate\n",
    "from langchain_core.output_parsers import StrOutputParser\n",
    "\n",
    "prompt_template = PromptTemplate(\n",
    "    template=\"What is the capital of {country}? Return the name of the city only\",\n",
    "    input_variables=[\"country\"],\n",
    ")\n",
    "\n",
    "prompt = prompt_template.invoke({\"country\": \"France\"})\n",
    "print(\"프롬프트:\", prompt)\n",
    "\n",
    "ai_message = llm.invoke(prompt_template.invoke({\"country\": \"France\"}))\n",
    "print(\"AI 응답:\", ai_message)\n",
    "\n",
    "output_parser = StrOutputParser()\n",
    "answer = output_parser.invoke(llm.invoke(prompt_template.invoke({\"country\": \"France\"})))\n",
    "print(\"파싱된 답변:\", answer)"
   ]
  },
  {
   "cell_type": "code",
   "execution_count": 26,
   "id": "c03ee0ad",
   "metadata": {},
   "outputs": [
    {
     "data": {
      "text/plain": [
       "AIMessage(content='Paris', additional_kwargs={}, response_metadata={'model': 'gemma3:1b', 'created_at': '2025-09-05T16:56:04.251416Z', 'done': True, 'done_reason': 'stop', 'total_duration': 222118042, 'load_duration': 137292584, 'prompt_eval_count': 23, 'prompt_eval_duration': 72827875, 'eval_count': 2, 'eval_duration': 11521625, 'model_name': 'gemma3:1b'}, id='run--874f5b6c-c87a-4c6f-847a-03b3c58d243b-0', usage_metadata={'input_tokens': 23, 'output_tokens': 2, 'total_tokens': 25})"
      ]
     },
     "execution_count": 26,
     "metadata": {},
     "output_type": "execute_result"
    }
   ],
   "source": [
    "ai_message"
   ]
  },
  {
   "cell_type": "code",
   "execution_count": 27,
   "id": "9ef92622",
   "metadata": {},
   "outputs": [
    {
     "data": {
      "text/plain": [
       "'Paris'"
      ]
     },
     "execution_count": 27,
     "metadata": {},
     "output_type": "execute_result"
    }
   ],
   "source": [
    "answer"
   ]
  },
  {
   "cell_type": "code",
   "execution_count": 28,
   "id": "37e31fe3",
   "metadata": {},
   "outputs": [],
   "source": [
    "from pydantic import BaseModel, Field\n",
    "\n",
    "\n",
    "class CountryDetail(BaseModel):\n",
    "    capital: str = Field(description=\"The capital of the country\")\n",
    "    population: int = Field(description=\"The population of the country\")\n",
    "    language: str = Field(description=\"The language of the country\")\n",
    "    currency: str = Field(description=\"The currency of the country\")\n",
    "\n",
    "\n",
    "structured_llm = llm.with_structured_output(CountryDetail)"
   ]
  },
  {
   "cell_type": "code",
   "execution_count": 29,
   "id": "90afc209",
   "metadata": {},
   "outputs": [],
   "source": [
    "from langchain_core.prompts import PromptTemplate\n",
    "\n",
    "# from langchain_core.output_parsers import JsonOutputParser\n",
    "\n",
    "country_detail_prompt = PromptTemplate(\n",
    "    template=\"\"\"Give following information about {country}:\n",
    "    - Capital\n",
    "    - Population\n",
    "    - Language\n",
    "    - Currency\n",
    "    return it in JSON format. and return the JSON dictionary only\n",
    "    \"\"\",\n",
    "    input_variables=[\"country\"],\n",
    ")\n",
    "\n",
    "# JsonOutputParser는 잘 동작하지 않음.\n",
    "# country_detail_prompt.invoke({\"country\": \"France\"})\n",
    "# output_parser = JsonOutputParser()\n",
    "# print(json_ai_message.content)\n",
    "\n",
    "json_ai_message = structured_llm.invoke(\n",
    "    country_detail_prompt.invoke({\"country\": \"France\"})\n",
    ")\n",
    "\n",
    "# output_parser.invoke(json_ai_message)"
   ]
  },
  {
   "cell_type": "code",
   "execution_count": 30,
   "id": "bd6adf08",
   "metadata": {},
   "outputs": [
    {
     "data": {
      "text/plain": [
       "CountryDetail(capital='Paris', population=6773837, language='French', currency='Euro')"
      ]
     },
     "execution_count": 30,
     "metadata": {},
     "output_type": "execute_result"
    }
   ],
   "source": [
    "(json_ai_message)"
   ]
  },
  {
   "cell_type": "code",
   "execution_count": 31,
   "id": "28a9ae92",
   "metadata": {},
   "outputs": [],
   "source": [
    "capital_chain = prompt_template | llm | output_parser"
   ]
  },
  {
   "cell_type": "code",
   "execution_count": 32,
   "id": "3086c337",
   "metadata": {},
   "outputs": [
    {
     "data": {
      "text/plain": [
       "'Seoul'"
      ]
     },
     "execution_count": 32,
     "metadata": {},
     "output_type": "execute_result"
    }
   ],
   "source": [
    "capital_chain.invoke({\"country\": \"Korea\"})"
   ]
  },
  {
   "cell_type": "code",
   "execution_count": 33,
   "id": "b9c18dd4",
   "metadata": {},
   "outputs": [
    {
     "data": {
      "text/plain": [
       "'France'"
      ]
     },
     "execution_count": 33,
     "metadata": {},
     "output_type": "execute_result"
    }
   ],
   "source": [
    "country_prompt = PromptTemplate(\n",
    "    template=\"\"\"Guess the name of country based on the following information:\n",
    "    {information}\n",
    "    return the name of the country only\n",
    "    \"\"\",\n",
    "    input_variables=[\"information\"],\n",
    ")\n",
    "\n",
    "country_chain = country_prompt | llm | output_parser\n",
    "country_chain.invoke({\"information\": \"This country is very famous for its wine\"})"
   ]
  },
  {
   "cell_type": "code",
   "execution_count": 39,
   "id": "9c6f9f65",
   "metadata": {},
   "outputs": [
    {
     "data": {
      "text/plain": [
       "'Paris'"
      ]
     },
     "execution_count": 39,
     "metadata": {},
     "output_type": "execute_result"
    }
   ],
   "source": [
    "from langchain_core.runnables import RunnablePassthrough\n",
    "\n",
    "# final_chain = {\"country\": country_chain} | capital_chain\n",
    "# final_chain.invoke({\"information\": \"This country is very famous for its wine\"})\n",
    "\n",
    "# final_chain = {\"information\": RunnablePassthrough()} | {\"country\": country_chain} | capital_chain\n",
    "# final_chain.invoke(\"This country is very famous for its wine\")\n",
    "\n",
    "final_chain = (\n",
    "    {\"information\": RunnablePassthrough(), \"continent\": RunnablePassthrough()}\n",
    "    | {\"country\": country_chain}\n",
    "    | capital_chain\n",
    ")\n",
    "final_chain.invoke(\n",
    "    {\"information\": \"This country is very famous for its wine\", \"continent\": \"Europe\"}\n",
    ")"
   ]
  }
 ],
 "metadata": {
  "kernelspec": {
   "display_name": ".venv",
   "language": "python",
   "name": "python3"
  },
  "language_info": {
   "codemirror_mode": {
    "name": "ipython",
    "version": 3
   },
   "file_extension": ".py",
   "mimetype": "text/x-python",
   "name": "python",
   "nbconvert_exporter": "python",
   "pygments_lexer": "ipython3",
   "version": "3.12.6"
  }
 },
 "nbformat": 4,
 "nbformat_minor": 5
}
